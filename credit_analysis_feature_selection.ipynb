{
  "nbformat": 4,
  "nbformat_minor": 0,
  "metadata": {
    "colab": {
      "provenance": []
    },
    "kernelspec": {
      "name": "python3",
      "display_name": "Python 3"
    },
    "language_info": {
      "name": "python"
    }
  },
  "cells": [
    {
      "cell_type": "code",
      "execution_count": 1,
      "metadata": {
        "id": "GEGHq7w0hYup"
      },
      "outputs": [],
      "source": [
        "import pandas as pd"
      ]
    },
    {
      "cell_type": "code",
      "source": [
        "credit_df = pd.read_csv('credit_risk_dataset.csv')"
      ],
      "metadata": {
        "id": "eBKfRS_6hfnf"
      },
      "execution_count": 2,
      "outputs": []
    },
    {
      "cell_type": "code",
      "source": [
        "!pip install shap"
      ],
      "metadata": {
        "colab": {
          "base_uri": "https://localhost:8080/"
        },
        "id": "hpiNTDMChrH-",
        "outputId": "7921505d-40b8-463c-9aac-2ead06a41860"
      },
      "execution_count": 4,
      "outputs": [
        {
          "output_type": "stream",
          "name": "stdout",
          "text": [
            "Collecting shap\n",
            "  Downloading shap-0.43.0-cp310-cp310-manylinux_2_12_x86_64.manylinux2010_x86_64.manylinux_2_17_x86_64.manylinux2014_x86_64.whl (532 kB)\n",
            "\u001b[?25l     \u001b[90m━━━━━━━━━━━━━━━━━━━━━━━━━━━━━━━━━━━━━━━━\u001b[0m \u001b[32m0.0/532.9 kB\u001b[0m \u001b[31m?\u001b[0m eta \u001b[36m-:--:--\u001b[0m\r\u001b[2K     \u001b[91m━━━━━━━━\u001b[0m\u001b[90m╺\u001b[0m\u001b[90m━━━━━━━━━━━━━━━━━━━━━━━━━━━━━━━\u001b[0m \u001b[32m112.6/532.9 kB\u001b[0m \u001b[31m3.2 MB/s\u001b[0m eta \u001b[36m0:00:01\u001b[0m\r\u001b[2K     \u001b[90m━━━━━━━━━━━━━━━━━━━━━━━━━━━━━━━━━━━━━━━━\u001b[0m \u001b[32m532.9/532.9 kB\u001b[0m \u001b[31m7.8 MB/s\u001b[0m eta \u001b[36m0:00:00\u001b[0m\n",
            "\u001b[?25hRequirement already satisfied: numpy in /usr/local/lib/python3.10/dist-packages (from shap) (1.23.5)\n",
            "Requirement already satisfied: scipy in /usr/local/lib/python3.10/dist-packages (from shap) (1.11.3)\n",
            "Requirement already satisfied: scikit-learn in /usr/local/lib/python3.10/dist-packages (from shap) (1.2.2)\n",
            "Requirement already satisfied: pandas in /usr/local/lib/python3.10/dist-packages (from shap) (1.5.3)\n",
            "Requirement already satisfied: tqdm>=4.27.0 in /usr/local/lib/python3.10/dist-packages (from shap) (4.66.1)\n",
            "Requirement already satisfied: packaging>20.9 in /usr/local/lib/python3.10/dist-packages (from shap) (23.2)\n",
            "Collecting slicer==0.0.7 (from shap)\n",
            "  Downloading slicer-0.0.7-py3-none-any.whl (14 kB)\n",
            "Requirement already satisfied: numba in /usr/local/lib/python3.10/dist-packages (from shap) (0.56.4)\n",
            "Requirement already satisfied: cloudpickle in /usr/local/lib/python3.10/dist-packages (from shap) (2.2.1)\n",
            "Requirement already satisfied: llvmlite<0.40,>=0.39.0dev0 in /usr/local/lib/python3.10/dist-packages (from numba->shap) (0.39.1)\n",
            "Requirement already satisfied: setuptools in /usr/local/lib/python3.10/dist-packages (from numba->shap) (67.7.2)\n",
            "Requirement already satisfied: python-dateutil>=2.8.1 in /usr/local/lib/python3.10/dist-packages (from pandas->shap) (2.8.2)\n",
            "Requirement already satisfied: pytz>=2020.1 in /usr/local/lib/python3.10/dist-packages (from pandas->shap) (2023.3.post1)\n",
            "Requirement already satisfied: joblib>=1.1.1 in /usr/local/lib/python3.10/dist-packages (from scikit-learn->shap) (1.3.2)\n",
            "Requirement already satisfied: threadpoolctl>=2.0.0 in /usr/local/lib/python3.10/dist-packages (from scikit-learn->shap) (3.2.0)\n",
            "Requirement already satisfied: six>=1.5 in /usr/local/lib/python3.10/dist-packages (from python-dateutil>=2.8.1->pandas->shap) (1.16.0)\n",
            "Installing collected packages: slicer, shap\n",
            "Successfully installed shap-0.43.0 slicer-0.0.7\n"
          ]
        }
      ]
    },
    {
      "cell_type": "code",
      "source": [
        "import shap\n",
        "import numpy as np\n",
        "import tensorflow as tf\n",
        "from tensorflow.keras import layers, models\n",
        "from sklearn.model_selection import train_test_split"
      ],
      "metadata": {
        "id": "RpmyDFBIhpdd"
      },
      "execution_count": 5,
      "outputs": []
    },
    {
      "cell_type": "code",
      "source": [
        "from sklearn.linear_model import LogisticRegression, LinearRegression"
      ],
      "metadata": {
        "id": "LeEvadgEiBDn"
      },
      "execution_count": 13,
      "outputs": []
    },
    {
      "cell_type": "code",
      "source": [
        "# Separate data into two sets: one with missing values and one without\n",
        "df_missing = credit_df[credit_df['person_emp_length'].isnull()]\n",
        "df_not_missing = credit_df[~credit_df['person_emp_length'].isnull()]"
      ],
      "metadata": {
        "id": "C9Fbhb2ViLfC"
      },
      "execution_count": 10,
      "outputs": []
    },
    {
      "cell_type": "code",
      "source": [
        "# define the features (independent variables) and target (person_emp_length)\n",
        "# use 'person_income' and 'loan_amnt' as features\n",
        "features = ['person_income', 'loan_amnt']\n",
        "target = 'person_emp_length'"
      ],
      "metadata": {
        "id": "7Tf3_KgWiMZ4"
      },
      "execution_count": 11,
      "outputs": []
    },
    {
      "cell_type": "code",
      "source": [
        "# Create and fit a linear regression model on the data without missing values\n",
        "regression_model = LinearRegression()\n",
        "regression_model.fit(df_not_missing[features], df_not_missing[target])"
      ],
      "metadata": {
        "colab": {
          "base_uri": "https://localhost:8080/",
          "height": 74
        },
        "id": "bKSvAFGtiPWf",
        "outputId": "33565f34-eca6-4f75-8908-37cd2f01aa55"
      },
      "execution_count": 14,
      "outputs": [
        {
          "output_type": "execute_result",
          "data": {
            "text/plain": [
              "LinearRegression()"
            ],
            "text/html": [
              "<style>#sk-container-id-1 {color: black;background-color: white;}#sk-container-id-1 pre{padding: 0;}#sk-container-id-1 div.sk-toggleable {background-color: white;}#sk-container-id-1 label.sk-toggleable__label {cursor: pointer;display: block;width: 100%;margin-bottom: 0;padding: 0.3em;box-sizing: border-box;text-align: center;}#sk-container-id-1 label.sk-toggleable__label-arrow:before {content: \"▸\";float: left;margin-right: 0.25em;color: #696969;}#sk-container-id-1 label.sk-toggleable__label-arrow:hover:before {color: black;}#sk-container-id-1 div.sk-estimator:hover label.sk-toggleable__label-arrow:before {color: black;}#sk-container-id-1 div.sk-toggleable__content {max-height: 0;max-width: 0;overflow: hidden;text-align: left;background-color: #f0f8ff;}#sk-container-id-1 div.sk-toggleable__content pre {margin: 0.2em;color: black;border-radius: 0.25em;background-color: #f0f8ff;}#sk-container-id-1 input.sk-toggleable__control:checked~div.sk-toggleable__content {max-height: 200px;max-width: 100%;overflow: auto;}#sk-container-id-1 input.sk-toggleable__control:checked~label.sk-toggleable__label-arrow:before {content: \"▾\";}#sk-container-id-1 div.sk-estimator input.sk-toggleable__control:checked~label.sk-toggleable__label {background-color: #d4ebff;}#sk-container-id-1 div.sk-label input.sk-toggleable__control:checked~label.sk-toggleable__label {background-color: #d4ebff;}#sk-container-id-1 input.sk-hidden--visually {border: 0;clip: rect(1px 1px 1px 1px);clip: rect(1px, 1px, 1px, 1px);height: 1px;margin: -1px;overflow: hidden;padding: 0;position: absolute;width: 1px;}#sk-container-id-1 div.sk-estimator {font-family: monospace;background-color: #f0f8ff;border: 1px dotted black;border-radius: 0.25em;box-sizing: border-box;margin-bottom: 0.5em;}#sk-container-id-1 div.sk-estimator:hover {background-color: #d4ebff;}#sk-container-id-1 div.sk-parallel-item::after {content: \"\";width: 100%;border-bottom: 1px solid gray;flex-grow: 1;}#sk-container-id-1 div.sk-label:hover label.sk-toggleable__label {background-color: #d4ebff;}#sk-container-id-1 div.sk-serial::before {content: \"\";position: absolute;border-left: 1px solid gray;box-sizing: border-box;top: 0;bottom: 0;left: 50%;z-index: 0;}#sk-container-id-1 div.sk-serial {display: flex;flex-direction: column;align-items: center;background-color: white;padding-right: 0.2em;padding-left: 0.2em;position: relative;}#sk-container-id-1 div.sk-item {position: relative;z-index: 1;}#sk-container-id-1 div.sk-parallel {display: flex;align-items: stretch;justify-content: center;background-color: white;position: relative;}#sk-container-id-1 div.sk-item::before, #sk-container-id-1 div.sk-parallel-item::before {content: \"\";position: absolute;border-left: 1px solid gray;box-sizing: border-box;top: 0;bottom: 0;left: 50%;z-index: -1;}#sk-container-id-1 div.sk-parallel-item {display: flex;flex-direction: column;z-index: 1;position: relative;background-color: white;}#sk-container-id-1 div.sk-parallel-item:first-child::after {align-self: flex-end;width: 50%;}#sk-container-id-1 div.sk-parallel-item:last-child::after {align-self: flex-start;width: 50%;}#sk-container-id-1 div.sk-parallel-item:only-child::after {width: 0;}#sk-container-id-1 div.sk-dashed-wrapped {border: 1px dashed gray;margin: 0 0.4em 0.5em 0.4em;box-sizing: border-box;padding-bottom: 0.4em;background-color: white;}#sk-container-id-1 div.sk-label label {font-family: monospace;font-weight: bold;display: inline-block;line-height: 1.2em;}#sk-container-id-1 div.sk-label-container {text-align: center;}#sk-container-id-1 div.sk-container {/* jupyter's `normalize.less` sets `[hidden] { display: none; }` but bootstrap.min.css set `[hidden] { display: none !important; }` so we also need the `!important` here to be able to override the default hidden behavior on the sphinx rendered scikit-learn.org. See: https://github.com/scikit-learn/scikit-learn/issues/21755 */display: inline-block !important;position: relative;}#sk-container-id-1 div.sk-text-repr-fallback {display: none;}</style><div id=\"sk-container-id-1\" class=\"sk-top-container\"><div class=\"sk-text-repr-fallback\"><pre>LinearRegression()</pre><b>In a Jupyter environment, please rerun this cell to show the HTML representation or trust the notebook. <br />On GitHub, the HTML representation is unable to render, please try loading this page with nbviewer.org.</b></div><div class=\"sk-container\" hidden><div class=\"sk-item\"><div class=\"sk-estimator sk-toggleable\"><input class=\"sk-toggleable__control sk-hidden--visually\" id=\"sk-estimator-id-1\" type=\"checkbox\" checked><label for=\"sk-estimator-id-1\" class=\"sk-toggleable__label sk-toggleable__label-arrow\">LinearRegression</label><div class=\"sk-toggleable__content\"><pre>LinearRegression()</pre></div></div></div></div></div>"
            ]
          },
          "metadata": {},
          "execution_count": 14
        }
      ]
    },
    {
      "cell_type": "code",
      "source": [
        "# Predict the missing values\n",
        "imputed_values = regression_model.predict(df_missing[features])"
      ],
      "metadata": {
        "id": "z7oKmNjZiUhP"
      },
      "execution_count": 15,
      "outputs": []
    },
    {
      "cell_type": "code",
      "source": [
        "# update the DataFrame with the imputed values\n",
        "credit_df.loc[credit_df['person_emp_length'].isnull(), 'person_emp_length'] = imputed_values"
      ],
      "metadata": {
        "id": "QVkiCV36iWpx"
      },
      "execution_count": 16,
      "outputs": []
    },
    {
      "cell_type": "code",
      "source": [
        "# doing the same for 'loan_int_rate'\n",
        "# split into two - one with missing, the other without\n",
        "df_missing = credit_df[credit_df['loan_int_rate'].isnull()]\n",
        "df_not_missing = credit_df[~credit_df['loan_int_rate'].isnull()]"
      ],
      "metadata": {
        "id": "WrLHMef-iYrK"
      },
      "execution_count": 17,
      "outputs": []
    },
    {
      "cell_type": "code",
      "source": [
        "# define the features (independent variables) and target (loan_int_rate)\n",
        "# using 'person_income' and 'loan_amnt' as features\n",
        "features = ['person_income', 'loan_amnt']\n",
        "target = 'loan_int_rate'"
      ],
      "metadata": {
        "id": "0Fan3PWViahb"
      },
      "execution_count": 18,
      "outputs": []
    },
    {
      "cell_type": "code",
      "source": [
        "# create and fit a linear regression model on the data without missing values\n",
        "regression_model = LinearRegression()\n",
        "regression_model.fit(df_not_missing[features], df_not_missing[target])"
      ],
      "metadata": {
        "colab": {
          "base_uri": "https://localhost:8080/",
          "height": 74
        },
        "id": "kZNbme2JicwZ",
        "outputId": "919298fc-c450-4493-b53f-e99813123ac0"
      },
      "execution_count": 19,
      "outputs": [
        {
          "output_type": "execute_result",
          "data": {
            "text/plain": [
              "LinearRegression()"
            ],
            "text/html": [
              "<style>#sk-container-id-2 {color: black;background-color: white;}#sk-container-id-2 pre{padding: 0;}#sk-container-id-2 div.sk-toggleable {background-color: white;}#sk-container-id-2 label.sk-toggleable__label {cursor: pointer;display: block;width: 100%;margin-bottom: 0;padding: 0.3em;box-sizing: border-box;text-align: center;}#sk-container-id-2 label.sk-toggleable__label-arrow:before {content: \"▸\";float: left;margin-right: 0.25em;color: #696969;}#sk-container-id-2 label.sk-toggleable__label-arrow:hover:before {color: black;}#sk-container-id-2 div.sk-estimator:hover label.sk-toggleable__label-arrow:before {color: black;}#sk-container-id-2 div.sk-toggleable__content {max-height: 0;max-width: 0;overflow: hidden;text-align: left;background-color: #f0f8ff;}#sk-container-id-2 div.sk-toggleable__content pre {margin: 0.2em;color: black;border-radius: 0.25em;background-color: #f0f8ff;}#sk-container-id-2 input.sk-toggleable__control:checked~div.sk-toggleable__content {max-height: 200px;max-width: 100%;overflow: auto;}#sk-container-id-2 input.sk-toggleable__control:checked~label.sk-toggleable__label-arrow:before {content: \"▾\";}#sk-container-id-2 div.sk-estimator input.sk-toggleable__control:checked~label.sk-toggleable__label {background-color: #d4ebff;}#sk-container-id-2 div.sk-label input.sk-toggleable__control:checked~label.sk-toggleable__label {background-color: #d4ebff;}#sk-container-id-2 input.sk-hidden--visually {border: 0;clip: rect(1px 1px 1px 1px);clip: rect(1px, 1px, 1px, 1px);height: 1px;margin: -1px;overflow: hidden;padding: 0;position: absolute;width: 1px;}#sk-container-id-2 div.sk-estimator {font-family: monospace;background-color: #f0f8ff;border: 1px dotted black;border-radius: 0.25em;box-sizing: border-box;margin-bottom: 0.5em;}#sk-container-id-2 div.sk-estimator:hover {background-color: #d4ebff;}#sk-container-id-2 div.sk-parallel-item::after {content: \"\";width: 100%;border-bottom: 1px solid gray;flex-grow: 1;}#sk-container-id-2 div.sk-label:hover label.sk-toggleable__label {background-color: #d4ebff;}#sk-container-id-2 div.sk-serial::before {content: \"\";position: absolute;border-left: 1px solid gray;box-sizing: border-box;top: 0;bottom: 0;left: 50%;z-index: 0;}#sk-container-id-2 div.sk-serial {display: flex;flex-direction: column;align-items: center;background-color: white;padding-right: 0.2em;padding-left: 0.2em;position: relative;}#sk-container-id-2 div.sk-item {position: relative;z-index: 1;}#sk-container-id-2 div.sk-parallel {display: flex;align-items: stretch;justify-content: center;background-color: white;position: relative;}#sk-container-id-2 div.sk-item::before, #sk-container-id-2 div.sk-parallel-item::before {content: \"\";position: absolute;border-left: 1px solid gray;box-sizing: border-box;top: 0;bottom: 0;left: 50%;z-index: -1;}#sk-container-id-2 div.sk-parallel-item {display: flex;flex-direction: column;z-index: 1;position: relative;background-color: white;}#sk-container-id-2 div.sk-parallel-item:first-child::after {align-self: flex-end;width: 50%;}#sk-container-id-2 div.sk-parallel-item:last-child::after {align-self: flex-start;width: 50%;}#sk-container-id-2 div.sk-parallel-item:only-child::after {width: 0;}#sk-container-id-2 div.sk-dashed-wrapped {border: 1px dashed gray;margin: 0 0.4em 0.5em 0.4em;box-sizing: border-box;padding-bottom: 0.4em;background-color: white;}#sk-container-id-2 div.sk-label label {font-family: monospace;font-weight: bold;display: inline-block;line-height: 1.2em;}#sk-container-id-2 div.sk-label-container {text-align: center;}#sk-container-id-2 div.sk-container {/* jupyter's `normalize.less` sets `[hidden] { display: none; }` but bootstrap.min.css set `[hidden] { display: none !important; }` so we also need the `!important` here to be able to override the default hidden behavior on the sphinx rendered scikit-learn.org. See: https://github.com/scikit-learn/scikit-learn/issues/21755 */display: inline-block !important;position: relative;}#sk-container-id-2 div.sk-text-repr-fallback {display: none;}</style><div id=\"sk-container-id-2\" class=\"sk-top-container\"><div class=\"sk-text-repr-fallback\"><pre>LinearRegression()</pre><b>In a Jupyter environment, please rerun this cell to show the HTML representation or trust the notebook. <br />On GitHub, the HTML representation is unable to render, please try loading this page with nbviewer.org.</b></div><div class=\"sk-container\" hidden><div class=\"sk-item\"><div class=\"sk-estimator sk-toggleable\"><input class=\"sk-toggleable__control sk-hidden--visually\" id=\"sk-estimator-id-2\" type=\"checkbox\" checked><label for=\"sk-estimator-id-2\" class=\"sk-toggleable__label sk-toggleable__label-arrow\">LinearRegression</label><div class=\"sk-toggleable__content\"><pre>LinearRegression()</pre></div></div></div></div></div>"
            ]
          },
          "metadata": {},
          "execution_count": 19
        }
      ]
    },
    {
      "cell_type": "code",
      "source": [
        "# predict the missing values\n",
        "imputed_values = regression_model.predict(df_missing[features])"
      ],
      "metadata": {
        "id": "crHPOjgXieux"
      },
      "execution_count": 20,
      "outputs": []
    },
    {
      "cell_type": "code",
      "source": [
        "#update the DataFrame with the imputed values\n",
        "credit_df.loc[credit_df['loan_int_rate'].isnull(), 'loan_int_rate'] = imputed_values"
      ],
      "metadata": {
        "id": "mP2PSq3zigiL"
      },
      "execution_count": 21,
      "outputs": []
    },
    {
      "cell_type": "code",
      "source": [
        "# using logistic regression to predict probable values for new \"probability of default\" column\n",
        "# including 'cb_person_default_on_file' as a feature for this regression model\n",
        "# one-hot encoding to convert 'cb_person_default_on_file' into numeric format\n",
        "X = pd.get_dummies(credit_df[['person_age', 'person_income', 'person_emp_length', 'loan_amnt', 'loan_int_rate', 'loan_percent_income', 'cb_person_cred_hist_length', 'cb_person_default_on_file', 'loan_grade']], columns=['cb_person_default_on_file', 'loan_grade'], drop_first=True)\n",
        "y = credit_df['loan_status']\n",
        "logistic_model = LogisticRegression()\n",
        "logistic_model.fit(X, y)\n",
        "\n",
        "# predicting pd\n",
        "pd_values = logistic_model.predict_proba(X)[:, 1]  # Probability of Default\n",
        "\n",
        "# adding pd values to existing dataframe\n",
        "credit_df['pd'] = pd_values\n"
      ],
      "metadata": {
        "id": "y2j6XGysh-ql"
      },
      "execution_count": 22,
      "outputs": []
    },
    {
      "cell_type": "code",
      "source": [
        "credit_df['ead'] = credit_df['loan_amnt'] - credit_df['loan_amnt'] * credit_df['loan_percent_income']\n",
        "# to calculate exposure at default"
      ],
      "metadata": {
        "id": "e8IQDdiPin8B"
      },
      "execution_count": 23,
      "outputs": []
    },
    {
      "cell_type": "code",
      "source": [
        "# adding a column for loss given default using recovery rate\n",
        "# calculating recovery rate\n",
        "credit_df['recovery_rate'] = (credit_df['ead'] - (credit_df['pd'] * credit_df['ead'])) / credit_df['ead']\n",
        "\n",
        "# calculating loss given default as a percentage\n",
        "credit_df['lgd'] = (1 - credit_df['recovery_rate']) * 100"
      ],
      "metadata": {
        "id": "1mnDF8EOiqAe"
      },
      "execution_count": 24,
      "outputs": []
    },
    {
      "cell_type": "code",
      "source": [
        "\n",
        "X=pd.get_dummies(credit_df[['person_age',\n",
        " 'person_income',\n",
        " 'person_home_ownership',\n",
        " 'person_emp_length',\n",
        " 'loan_intent',\n",
        " 'loan_grade',\n",
        " 'loan_amnt',\n",
        " 'loan_int_rate',\n",
        " 'loan_status',\n",
        " 'loan_percent_income',\n",
        " 'cb_person_default_on_file',\n",
        " 'cb_person_cred_hist_length',\n",
        " 'ead',\n",
        " 'recovery_rate',\n",
        " 'lgd']], columns=['cb_person_default_on_file', 'loan_grade', 'loan_intent', 'person_home_ownership'], drop_first=True)\n",
        "y=credit_df['pd']"
      ],
      "metadata": {
        "id": "qB601aZZuXSZ"
      },
      "execution_count": 40,
      "outputs": []
    },
    {
      "cell_type": "code",
      "source": [
        "#splitting data\n",
        "X_train, X_test, y_train, y_test = train_test_split(X, y, test_size=0.2, random_state=42)"
      ],
      "metadata": {
        "id": "RsKQmbMBh3Co"
      },
      "execution_count": 41,
      "outputs": []
    },
    {
      "cell_type": "code",
      "source": [
        "X_train"
      ],
      "metadata": {
        "colab": {
          "base_uri": "https://localhost:8080/",
          "height": 443
        },
        "id": "u4t1TxoyvdFh",
        "outputId": "a9450d98-7d02-4698-e74d-6eb4cae3fd27"
      },
      "execution_count": 42,
      "outputs": [
        {
          "output_type": "execute_result",
          "data": {
            "text/plain": [
              "       person_age  person_income  person_emp_length  loan_amnt  loan_int_rate  \\\n",
              "32377          64          46000                2.0       4800      11.090000   \n",
              "1338           26          26000                0.0       8500      16.450000   \n",
              "7047           23          51000                3.0      16000      13.110000   \n",
              "8225           22          56004                6.0       6000       7.880000   \n",
              "7178           24          79000                3.0       7000      12.540000   \n",
              "...           ...            ...                ...        ...            ...   \n",
              "29802          39          38500                7.0       3500      13.980000   \n",
              "5390           25          69000                5.0       8500       6.920000   \n",
              "860            26         148000                1.0      20000      17.990000   \n",
              "15795          26         175000                0.0      15000      11.212599   \n",
              "23654          27          65000               11.0       8000       7.490000   \n",
              "\n",
              "       loan_status  loan_percent_income  cb_person_cred_hist_length      ead  \\\n",
              "32377            0                 0.10                          24   4320.0   \n",
              "1338             1                 0.33                           3   5695.0   \n",
              "7047             0                 0.31                           3  11040.0   \n",
              "8225             0                 0.11                           4   5340.0   \n",
              "7178             0                 0.09                           3   6370.0   \n",
              "...            ...                  ...                         ...      ...   \n",
              "29802            0                 0.09                          17   3185.0   \n",
              "5390             1                 0.12                           4   7480.0   \n",
              "860              1                 0.14                           3  17200.0   \n",
              "15795            0                 0.09                           3  13650.0   \n",
              "23654            0                 0.12                           8   7040.0   \n",
              "\n",
              "       recovery_rate  ...  loan_grade_F  loan_grade_G  loan_intent_EDUCATION  \\\n",
              "32377       0.795647  ...             0             0                      0   \n",
              "1338        0.537605  ...             0             0                      0   \n",
              "7047        0.590841  ...             0             0                      0   \n",
              "8225        0.837299  ...             0             0                      0   \n",
              "7178        0.921808  ...             0             0                      0   \n",
              "...              ...  ...           ...           ...                    ...   \n",
              "29802       0.767259  ...             0             0                      0   \n",
              "5390        0.869916  ...             0             0                      0   \n",
              "860         0.979908  ...             0             0                      0   \n",
              "15795       0.996007  ...             0             0                      0   \n",
              "23654       0.857030  ...             0             0                      0   \n",
              "\n",
              "       loan_intent_HOMEIMPROVEMENT  loan_intent_MEDICAL  loan_intent_PERSONAL  \\\n",
              "32377                            0                    0                     1   \n",
              "1338                             0                    0                     0   \n",
              "7047                             0                    0                     1   \n",
              "8225                             0                    1                     0   \n",
              "7178                             0                    0                     1   \n",
              "...                            ...                  ...                   ...   \n",
              "29802                            0                    1                     0   \n",
              "5390                             1                    0                     0   \n",
              "860                              0                    0                     0   \n",
              "15795                            0                    0                     1   \n",
              "23654                            0                    0                     0   \n",
              "\n",
              "       loan_intent_VENTURE  person_home_ownership_OTHER  \\\n",
              "32377                    0                            0   \n",
              "1338                     0                            0   \n",
              "7047                     0                            0   \n",
              "8225                     0                            0   \n",
              "7178                     0                            0   \n",
              "...                    ...                          ...   \n",
              "29802                    0                            0   \n",
              "5390                     0                            0   \n",
              "860                      0                            0   \n",
              "15795                    0                            0   \n",
              "23654                    1                            0   \n",
              "\n",
              "       person_home_ownership_OWN  person_home_ownership_RENT  \n",
              "32377                          0                           1  \n",
              "1338                           1                           0  \n",
              "7047                           0                           0  \n",
              "8225                           0                           0  \n",
              "7178                           0                           1  \n",
              "...                          ...                         ...  \n",
              "29802                          0                           0  \n",
              "5390                           0                           1  \n",
              "860                            0                           1  \n",
              "15795                          0                           0  \n",
              "23654                          0                           0  \n",
              "\n",
              "[26064 rows x 26 columns]"
            ],
            "text/html": [
              "\n",
              "  <div id=\"df-13092c1e-ecde-41e5-b0ea-92b5b9ff21e0\" class=\"colab-df-container\">\n",
              "    <div>\n",
              "<style scoped>\n",
              "    .dataframe tbody tr th:only-of-type {\n",
              "        vertical-align: middle;\n",
              "    }\n",
              "\n",
              "    .dataframe tbody tr th {\n",
              "        vertical-align: top;\n",
              "    }\n",
              "\n",
              "    .dataframe thead th {\n",
              "        text-align: right;\n",
              "    }\n",
              "</style>\n",
              "<table border=\"1\" class=\"dataframe\">\n",
              "  <thead>\n",
              "    <tr style=\"text-align: right;\">\n",
              "      <th></th>\n",
              "      <th>person_age</th>\n",
              "      <th>person_income</th>\n",
              "      <th>person_emp_length</th>\n",
              "      <th>loan_amnt</th>\n",
              "      <th>loan_int_rate</th>\n",
              "      <th>loan_status</th>\n",
              "      <th>loan_percent_income</th>\n",
              "      <th>cb_person_cred_hist_length</th>\n",
              "      <th>ead</th>\n",
              "      <th>recovery_rate</th>\n",
              "      <th>...</th>\n",
              "      <th>loan_grade_F</th>\n",
              "      <th>loan_grade_G</th>\n",
              "      <th>loan_intent_EDUCATION</th>\n",
              "      <th>loan_intent_HOMEIMPROVEMENT</th>\n",
              "      <th>loan_intent_MEDICAL</th>\n",
              "      <th>loan_intent_PERSONAL</th>\n",
              "      <th>loan_intent_VENTURE</th>\n",
              "      <th>person_home_ownership_OTHER</th>\n",
              "      <th>person_home_ownership_OWN</th>\n",
              "      <th>person_home_ownership_RENT</th>\n",
              "    </tr>\n",
              "  </thead>\n",
              "  <tbody>\n",
              "    <tr>\n",
              "      <th>32377</th>\n",
              "      <td>64</td>\n",
              "      <td>46000</td>\n",
              "      <td>2.0</td>\n",
              "      <td>4800</td>\n",
              "      <td>11.090000</td>\n",
              "      <td>0</td>\n",
              "      <td>0.10</td>\n",
              "      <td>24</td>\n",
              "      <td>4320.0</td>\n",
              "      <td>0.795647</td>\n",
              "      <td>...</td>\n",
              "      <td>0</td>\n",
              "      <td>0</td>\n",
              "      <td>0</td>\n",
              "      <td>0</td>\n",
              "      <td>0</td>\n",
              "      <td>1</td>\n",
              "      <td>0</td>\n",
              "      <td>0</td>\n",
              "      <td>0</td>\n",
              "      <td>1</td>\n",
              "    </tr>\n",
              "    <tr>\n",
              "      <th>1338</th>\n",
              "      <td>26</td>\n",
              "      <td>26000</td>\n",
              "      <td>0.0</td>\n",
              "      <td>8500</td>\n",
              "      <td>16.450000</td>\n",
              "      <td>1</td>\n",
              "      <td>0.33</td>\n",
              "      <td>3</td>\n",
              "      <td>5695.0</td>\n",
              "      <td>0.537605</td>\n",
              "      <td>...</td>\n",
              "      <td>0</td>\n",
              "      <td>0</td>\n",
              "      <td>0</td>\n",
              "      <td>0</td>\n",
              "      <td>0</td>\n",
              "      <td>0</td>\n",
              "      <td>0</td>\n",
              "      <td>0</td>\n",
              "      <td>1</td>\n",
              "      <td>0</td>\n",
              "    </tr>\n",
              "    <tr>\n",
              "      <th>7047</th>\n",
              "      <td>23</td>\n",
              "      <td>51000</td>\n",
              "      <td>3.0</td>\n",
              "      <td>16000</td>\n",
              "      <td>13.110000</td>\n",
              "      <td>0</td>\n",
              "      <td>0.31</td>\n",
              "      <td>3</td>\n",
              "      <td>11040.0</td>\n",
              "      <td>0.590841</td>\n",
              "      <td>...</td>\n",
              "      <td>0</td>\n",
              "      <td>0</td>\n",
              "      <td>0</td>\n",
              "      <td>0</td>\n",
              "      <td>0</td>\n",
              "      <td>1</td>\n",
              "      <td>0</td>\n",
              "      <td>0</td>\n",
              "      <td>0</td>\n",
              "      <td>0</td>\n",
              "    </tr>\n",
              "    <tr>\n",
              "      <th>8225</th>\n",
              "      <td>22</td>\n",
              "      <td>56004</td>\n",
              "      <td>6.0</td>\n",
              "      <td>6000</td>\n",
              "      <td>7.880000</td>\n",
              "      <td>0</td>\n",
              "      <td>0.11</td>\n",
              "      <td>4</td>\n",
              "      <td>5340.0</td>\n",
              "      <td>0.837299</td>\n",
              "      <td>...</td>\n",
              "      <td>0</td>\n",
              "      <td>0</td>\n",
              "      <td>0</td>\n",
              "      <td>0</td>\n",
              "      <td>1</td>\n",
              "      <td>0</td>\n",
              "      <td>0</td>\n",
              "      <td>0</td>\n",
              "      <td>0</td>\n",
              "      <td>0</td>\n",
              "    </tr>\n",
              "    <tr>\n",
              "      <th>7178</th>\n",
              "      <td>24</td>\n",
              "      <td>79000</td>\n",
              "      <td>3.0</td>\n",
              "      <td>7000</td>\n",
              "      <td>12.540000</td>\n",
              "      <td>0</td>\n",
              "      <td>0.09</td>\n",
              "      <td>3</td>\n",
              "      <td>6370.0</td>\n",
              "      <td>0.921808</td>\n",
              "      <td>...</td>\n",
              "      <td>0</td>\n",
              "      <td>0</td>\n",
              "      <td>0</td>\n",
              "      <td>0</td>\n",
              "      <td>0</td>\n",
              "      <td>1</td>\n",
              "      <td>0</td>\n",
              "      <td>0</td>\n",
              "      <td>0</td>\n",
              "      <td>1</td>\n",
              "    </tr>\n",
              "    <tr>\n",
              "      <th>...</th>\n",
              "      <td>...</td>\n",
              "      <td>...</td>\n",
              "      <td>...</td>\n",
              "      <td>...</td>\n",
              "      <td>...</td>\n",
              "      <td>...</td>\n",
              "      <td>...</td>\n",
              "      <td>...</td>\n",
              "      <td>...</td>\n",
              "      <td>...</td>\n",
              "      <td>...</td>\n",
              "      <td>...</td>\n",
              "      <td>...</td>\n",
              "      <td>...</td>\n",
              "      <td>...</td>\n",
              "      <td>...</td>\n",
              "      <td>...</td>\n",
              "      <td>...</td>\n",
              "      <td>...</td>\n",
              "      <td>...</td>\n",
              "      <td>...</td>\n",
              "    </tr>\n",
              "    <tr>\n",
              "      <th>29802</th>\n",
              "      <td>39</td>\n",
              "      <td>38500</td>\n",
              "      <td>7.0</td>\n",
              "      <td>3500</td>\n",
              "      <td>13.980000</td>\n",
              "      <td>0</td>\n",
              "      <td>0.09</td>\n",
              "      <td>17</td>\n",
              "      <td>3185.0</td>\n",
              "      <td>0.767259</td>\n",
              "      <td>...</td>\n",
              "      <td>0</td>\n",
              "      <td>0</td>\n",
              "      <td>0</td>\n",
              "      <td>0</td>\n",
              "      <td>1</td>\n",
              "      <td>0</td>\n",
              "      <td>0</td>\n",
              "      <td>0</td>\n",
              "      <td>0</td>\n",
              "      <td>0</td>\n",
              "    </tr>\n",
              "    <tr>\n",
              "      <th>5390</th>\n",
              "      <td>25</td>\n",
              "      <td>69000</td>\n",
              "      <td>5.0</td>\n",
              "      <td>8500</td>\n",
              "      <td>6.920000</td>\n",
              "      <td>1</td>\n",
              "      <td>0.12</td>\n",
              "      <td>4</td>\n",
              "      <td>7480.0</td>\n",
              "      <td>0.869916</td>\n",
              "      <td>...</td>\n",
              "      <td>0</td>\n",
              "      <td>0</td>\n",
              "      <td>0</td>\n",
              "      <td>1</td>\n",
              "      <td>0</td>\n",
              "      <td>0</td>\n",
              "      <td>0</td>\n",
              "      <td>0</td>\n",
              "      <td>0</td>\n",
              "      <td>1</td>\n",
              "    </tr>\n",
              "    <tr>\n",
              "      <th>860</th>\n",
              "      <td>26</td>\n",
              "      <td>148000</td>\n",
              "      <td>1.0</td>\n",
              "      <td>20000</td>\n",
              "      <td>17.990000</td>\n",
              "      <td>1</td>\n",
              "      <td>0.14</td>\n",
              "      <td>3</td>\n",
              "      <td>17200.0</td>\n",
              "      <td>0.979908</td>\n",
              "      <td>...</td>\n",
              "      <td>0</td>\n",
              "      <td>0</td>\n",
              "      <td>0</td>\n",
              "      <td>0</td>\n",
              "      <td>0</td>\n",
              "      <td>0</td>\n",
              "      <td>0</td>\n",
              "      <td>0</td>\n",
              "      <td>0</td>\n",
              "      <td>1</td>\n",
              "    </tr>\n",
              "    <tr>\n",
              "      <th>15795</th>\n",
              "      <td>26</td>\n",
              "      <td>175000</td>\n",
              "      <td>0.0</td>\n",
              "      <td>15000</td>\n",
              "      <td>11.212599</td>\n",
              "      <td>0</td>\n",
              "      <td>0.09</td>\n",
              "      <td>3</td>\n",
              "      <td>13650.0</td>\n",
              "      <td>0.996007</td>\n",
              "      <td>...</td>\n",
              "      <td>0</td>\n",
              "      <td>0</td>\n",
              "      <td>0</td>\n",
              "      <td>0</td>\n",
              "      <td>0</td>\n",
              "      <td>1</td>\n",
              "      <td>0</td>\n",
              "      <td>0</td>\n",
              "      <td>0</td>\n",
              "      <td>0</td>\n",
              "    </tr>\n",
              "    <tr>\n",
              "      <th>23654</th>\n",
              "      <td>27</td>\n",
              "      <td>65000</td>\n",
              "      <td>11.0</td>\n",
              "      <td>8000</td>\n",
              "      <td>7.490000</td>\n",
              "      <td>0</td>\n",
              "      <td>0.12</td>\n",
              "      <td>8</td>\n",
              "      <td>7040.0</td>\n",
              "      <td>0.857030</td>\n",
              "      <td>...</td>\n",
              "      <td>0</td>\n",
              "      <td>0</td>\n",
              "      <td>0</td>\n",
              "      <td>0</td>\n",
              "      <td>0</td>\n",
              "      <td>0</td>\n",
              "      <td>1</td>\n",
              "      <td>0</td>\n",
              "      <td>0</td>\n",
              "      <td>0</td>\n",
              "    </tr>\n",
              "  </tbody>\n",
              "</table>\n",
              "<p>26064 rows × 26 columns</p>\n",
              "</div>\n",
              "    <div class=\"colab-df-buttons\">\n",
              "\n",
              "  <div class=\"colab-df-container\">\n",
              "    <button class=\"colab-df-convert\" onclick=\"convertToInteractive('df-13092c1e-ecde-41e5-b0ea-92b5b9ff21e0')\"\n",
              "            title=\"Convert this dataframe to an interactive table.\"\n",
              "            style=\"display:none;\">\n",
              "\n",
              "  <svg xmlns=\"http://www.w3.org/2000/svg\" height=\"24px\" viewBox=\"0 -960 960 960\">\n",
              "    <path d=\"M120-120v-720h720v720H120Zm60-500h600v-160H180v160Zm220 220h160v-160H400v160Zm0 220h160v-160H400v160ZM180-400h160v-160H180v160Zm440 0h160v-160H620v160ZM180-180h160v-160H180v160Zm440 0h160v-160H620v160Z\"/>\n",
              "  </svg>\n",
              "    </button>\n",
              "\n",
              "  <style>\n",
              "    .colab-df-container {\n",
              "      display:flex;\n",
              "      gap: 12px;\n",
              "    }\n",
              "\n",
              "    .colab-df-convert {\n",
              "      background-color: #E8F0FE;\n",
              "      border: none;\n",
              "      border-radius: 50%;\n",
              "      cursor: pointer;\n",
              "      display: none;\n",
              "      fill: #1967D2;\n",
              "      height: 32px;\n",
              "      padding: 0 0 0 0;\n",
              "      width: 32px;\n",
              "    }\n",
              "\n",
              "    .colab-df-convert:hover {\n",
              "      background-color: #E2EBFA;\n",
              "      box-shadow: 0px 1px 2px rgba(60, 64, 67, 0.3), 0px 1px 3px 1px rgba(60, 64, 67, 0.15);\n",
              "      fill: #174EA6;\n",
              "    }\n",
              "\n",
              "    .colab-df-buttons div {\n",
              "      margin-bottom: 4px;\n",
              "    }\n",
              "\n",
              "    [theme=dark] .colab-df-convert {\n",
              "      background-color: #3B4455;\n",
              "      fill: #D2E3FC;\n",
              "    }\n",
              "\n",
              "    [theme=dark] .colab-df-convert:hover {\n",
              "      background-color: #434B5C;\n",
              "      box-shadow: 0px 1px 3px 1px rgba(0, 0, 0, 0.15);\n",
              "      filter: drop-shadow(0px 1px 2px rgba(0, 0, 0, 0.3));\n",
              "      fill: #FFFFFF;\n",
              "    }\n",
              "  </style>\n",
              "\n",
              "    <script>\n",
              "      const buttonEl =\n",
              "        document.querySelector('#df-13092c1e-ecde-41e5-b0ea-92b5b9ff21e0 button.colab-df-convert');\n",
              "      buttonEl.style.display =\n",
              "        google.colab.kernel.accessAllowed ? 'block' : 'none';\n",
              "\n",
              "      async function convertToInteractive(key) {\n",
              "        const element = document.querySelector('#df-13092c1e-ecde-41e5-b0ea-92b5b9ff21e0');\n",
              "        const dataTable =\n",
              "          await google.colab.kernel.invokeFunction('convertToInteractive',\n",
              "                                                    [key], {});\n",
              "        if (!dataTable) return;\n",
              "\n",
              "        const docLinkHtml = 'Like what you see? Visit the ' +\n",
              "          '<a target=\"_blank\" href=https://colab.research.google.com/notebooks/data_table.ipynb>data table notebook</a>'\n",
              "          + ' to learn more about interactive tables.';\n",
              "        element.innerHTML = '';\n",
              "        dataTable['output_type'] = 'display_data';\n",
              "        await google.colab.output.renderOutput(dataTable, element);\n",
              "        const docLink = document.createElement('div');\n",
              "        docLink.innerHTML = docLinkHtml;\n",
              "        element.appendChild(docLink);\n",
              "      }\n",
              "    </script>\n",
              "  </div>\n",
              "\n",
              "\n",
              "<div id=\"df-e8f7e461-cc74-4115-8866-c30bcc3ebe30\">\n",
              "  <button class=\"colab-df-quickchart\" onclick=\"quickchart('df-e8f7e461-cc74-4115-8866-c30bcc3ebe30')\"\n",
              "            title=\"Suggest charts.\"\n",
              "            style=\"display:none;\">\n",
              "\n",
              "<svg xmlns=\"http://www.w3.org/2000/svg\" height=\"24px\"viewBox=\"0 0 24 24\"\n",
              "     width=\"24px\">\n",
              "    <g>\n",
              "        <path d=\"M19 3H5c-1.1 0-2 .9-2 2v14c0 1.1.9 2 2 2h14c1.1 0 2-.9 2-2V5c0-1.1-.9-2-2-2zM9 17H7v-7h2v7zm4 0h-2V7h2v10zm4 0h-2v-4h2v4z\"/>\n",
              "    </g>\n",
              "</svg>\n",
              "  </button>\n",
              "\n",
              "<style>\n",
              "  .colab-df-quickchart {\n",
              "      --bg-color: #E8F0FE;\n",
              "      --fill-color: #1967D2;\n",
              "      --hover-bg-color: #E2EBFA;\n",
              "      --hover-fill-color: #174EA6;\n",
              "      --disabled-fill-color: #AAA;\n",
              "      --disabled-bg-color: #DDD;\n",
              "  }\n",
              "\n",
              "  [theme=dark] .colab-df-quickchart {\n",
              "      --bg-color: #3B4455;\n",
              "      --fill-color: #D2E3FC;\n",
              "      --hover-bg-color: #434B5C;\n",
              "      --hover-fill-color: #FFFFFF;\n",
              "      --disabled-bg-color: #3B4455;\n",
              "      --disabled-fill-color: #666;\n",
              "  }\n",
              "\n",
              "  .colab-df-quickchart {\n",
              "    background-color: var(--bg-color);\n",
              "    border: none;\n",
              "    border-radius: 50%;\n",
              "    cursor: pointer;\n",
              "    display: none;\n",
              "    fill: var(--fill-color);\n",
              "    height: 32px;\n",
              "    padding: 0;\n",
              "    width: 32px;\n",
              "  }\n",
              "\n",
              "  .colab-df-quickchart:hover {\n",
              "    background-color: var(--hover-bg-color);\n",
              "    box-shadow: 0 1px 2px rgba(60, 64, 67, 0.3), 0 1px 3px 1px rgba(60, 64, 67, 0.15);\n",
              "    fill: var(--button-hover-fill-color);\n",
              "  }\n",
              "\n",
              "  .colab-df-quickchart-complete:disabled,\n",
              "  .colab-df-quickchart-complete:disabled:hover {\n",
              "    background-color: var(--disabled-bg-color);\n",
              "    fill: var(--disabled-fill-color);\n",
              "    box-shadow: none;\n",
              "  }\n",
              "\n",
              "  .colab-df-spinner {\n",
              "    border: 2px solid var(--fill-color);\n",
              "    border-color: transparent;\n",
              "    border-bottom-color: var(--fill-color);\n",
              "    animation:\n",
              "      spin 1s steps(1) infinite;\n",
              "  }\n",
              "\n",
              "  @keyframes spin {\n",
              "    0% {\n",
              "      border-color: transparent;\n",
              "      border-bottom-color: var(--fill-color);\n",
              "      border-left-color: var(--fill-color);\n",
              "    }\n",
              "    20% {\n",
              "      border-color: transparent;\n",
              "      border-left-color: var(--fill-color);\n",
              "      border-top-color: var(--fill-color);\n",
              "    }\n",
              "    30% {\n",
              "      border-color: transparent;\n",
              "      border-left-color: var(--fill-color);\n",
              "      border-top-color: var(--fill-color);\n",
              "      border-right-color: var(--fill-color);\n",
              "    }\n",
              "    40% {\n",
              "      border-color: transparent;\n",
              "      border-right-color: var(--fill-color);\n",
              "      border-top-color: var(--fill-color);\n",
              "    }\n",
              "    60% {\n",
              "      border-color: transparent;\n",
              "      border-right-color: var(--fill-color);\n",
              "    }\n",
              "    80% {\n",
              "      border-color: transparent;\n",
              "      border-right-color: var(--fill-color);\n",
              "      border-bottom-color: var(--fill-color);\n",
              "    }\n",
              "    90% {\n",
              "      border-color: transparent;\n",
              "      border-bottom-color: var(--fill-color);\n",
              "    }\n",
              "  }\n",
              "</style>\n",
              "\n",
              "  <script>\n",
              "    async function quickchart(key) {\n",
              "      const quickchartButtonEl =\n",
              "        document.querySelector('#' + key + ' button');\n",
              "      quickchartButtonEl.disabled = true;  // To prevent multiple clicks.\n",
              "      quickchartButtonEl.classList.add('colab-df-spinner');\n",
              "      try {\n",
              "        const charts = await google.colab.kernel.invokeFunction(\n",
              "            'suggestCharts', [key], {});\n",
              "      } catch (error) {\n",
              "        console.error('Error during call to suggestCharts:', error);\n",
              "      }\n",
              "      quickchartButtonEl.classList.remove('colab-df-spinner');\n",
              "      quickchartButtonEl.classList.add('colab-df-quickchart-complete');\n",
              "    }\n",
              "    (() => {\n",
              "      let quickchartButtonEl =\n",
              "        document.querySelector('#df-e8f7e461-cc74-4115-8866-c30bcc3ebe30 button');\n",
              "      quickchartButtonEl.style.display =\n",
              "        google.colab.kernel.accessAllowed ? 'block' : 'none';\n",
              "    })();\n",
              "  </script>\n",
              "</div>\n",
              "    </div>\n",
              "  </div>\n"
            ]
          },
          "metadata": {},
          "execution_count": 42
        }
      ]
    },
    {
      "cell_type": "code",
      "source": [
        "model = models.Sequential([\n",
        "    layers.Dense(32, activation='relu', input_shape=(26,)),  #input shape should match number of variables in data\n",
        "    layers.Dense(16, activation='relu'),\n",
        "    layers.Dense(1)  #output layer\n",
        "])\n",
        "\n",
        "model.compile(optimizer='adam', loss='mean_squared_error')"
      ],
      "metadata": {
        "id": "QlXZlpMrktpg"
      },
      "execution_count": 47,
      "outputs": []
    },
    {
      "cell_type": "code",
      "source": [
        "list(X)"
      ],
      "metadata": {
        "colab": {
          "base_uri": "https://localhost:8080/"
        },
        "id": "8e6faDOPolMR",
        "outputId": "ce9f5d72-aca9-46a1-b36b-478f8482cf37"
      },
      "execution_count": 55,
      "outputs": [
        {
          "output_type": "execute_result",
          "data": {
            "text/plain": [
              "['person_age',\n",
              " 'person_income',\n",
              " 'person_emp_length',\n",
              " 'loan_amnt',\n",
              " 'loan_int_rate',\n",
              " 'loan_status',\n",
              " 'loan_percent_income',\n",
              " 'cb_person_cred_hist_length',\n",
              " 'ead',\n",
              " 'recovery_rate',\n",
              " 'lgd',\n",
              " 'cb_person_default_on_file_Y',\n",
              " 'loan_grade_B',\n",
              " 'loan_grade_C',\n",
              " 'loan_grade_D',\n",
              " 'loan_grade_E',\n",
              " 'loan_grade_F',\n",
              " 'loan_grade_G',\n",
              " 'loan_intent_EDUCATION',\n",
              " 'loan_intent_HOMEIMPROVEMENT',\n",
              " 'loan_intent_MEDICAL',\n",
              " 'loan_intent_PERSONAL',\n",
              " 'loan_intent_VENTURE',\n",
              " 'person_home_ownership_OTHER',\n",
              " 'person_home_ownership_OWN',\n",
              " 'person_home_ownership_RENT']"
            ]
          },
          "metadata": {},
          "execution_count": 55
        }
      ]
    },
    {
      "cell_type": "code",
      "source": [
        "from sklearn.preprocessing import StandardScaler\n",
        "#scaling data with standard scaler\n",
        "scaler = StandardScaler()\n",
        "#fit scaler on training and apply same scaling to test\n",
        "X_train_scaled = scaler.fit_transform(X_train)\n",
        "X_test_scaled = scaler.transform(X_test)"
      ],
      "metadata": {
        "id": "azZGYS7MvXDa"
      },
      "execution_count": 49,
      "outputs": []
    },
    {
      "cell_type": "code",
      "source": [
        "# train\n",
        "model.fit(X_train_scaled, y_train, epochs=100, batch_size=16, verbose=0)"
      ],
      "metadata": {
        "colab": {
          "base_uri": "https://localhost:8080/"
        },
        "id": "5AY87gZJv01D",
        "outputId": "c1808f9d-d988-4861-94b2-a72bcda8b6ed"
      },
      "execution_count": 50,
      "outputs": [
        {
          "output_type": "execute_result",
          "data": {
            "text/plain": [
              "<keras.src.callbacks.History at 0x7fa1f88a32b0>"
            ]
          },
          "metadata": {},
          "execution_count": 50
        }
      ]
    },
    {
      "cell_type": "code",
      "source": [
        "\n",
        "\n",
        "#explainer initialized\n",
        "explainer = shap.Explainer(model, X_train_scaled)\n",
        "\n",
        "#shap values\n",
        "shap_values = explainer(X_test_scaled)\n",
        "\n",
        "#plot summary plot\n",
        "shap.summary_plot(shap_values, X_test_scaled, feature_names=['person_age',\n",
        " 'person_income',\n",
        " 'person_emp_length',\n",
        " 'loan_amnt',\n",
        " 'loan_int_rate',\n",
        " 'loan_status',\n",
        " 'loan_percent_income',\n",
        " 'cb_person_cred_hist_length',\n",
        " 'ead',\n",
        " 'recovery_rate',\n",
        " 'lgd',\n",
        " 'cb_person_default_on_file_Y',\n",
        " 'loan_grade_B',\n",
        " 'loan_grade_C',\n",
        " 'loan_grade_D',\n",
        " 'loan_grade_E',\n",
        " 'loan_grade_F',\n",
        " 'loan_grade_G',\n",
        " 'loan_intent_EDUCATION',\n",
        " 'loan_intent_HOMEIMPROVEMENT',\n",
        " 'loan_intent_MEDICAL',\n",
        " 'loan_intent_PERSONAL',\n",
        " 'loan_intent_VENTURE',\n",
        " 'person_home_ownership_OTHER',\n",
        " 'person_home_ownership_OWN',\n",
        " 'person_home_ownership_RENT'])\n"
      ],
      "metadata": {
        "colab": {
          "base_uri": "https://localhost:8080/",
          "height": 974
        },
        "id": "_T6Fic09hlTS",
        "outputId": "d9cd64b4-93c5-4719-c5f3-1cf9e44b852b"
      },
      "execution_count": 56,
      "outputs": [
        {
          "output_type": "stream",
          "name": "stderr",
          "text": [
            "PermutationExplainer explainer: 6518it [06:14, 16.92it/s]                          \n"
          ]
        },
        {
          "output_type": "display_data",
          "data": {
            "text/plain": [
              "<Figure size 800x950 with 2 Axes>"
            ],
            "image/png": "[encoded data removed]"
          },
          "metadata": {}
        }
      ]
    },
    {
      "cell_type": "code",
      "source": [
        "import tensorflow as tf\n",
        "from tensorflow import keras\n",
        "from tensorflow.keras import layers"
      ],
      "metadata": {
        "id": "NTD7CpQnixJ3"
      },
      "execution_count": 57,
      "outputs": []
    },
    {
      "cell_type": "code",
      "source": [
        "# defining x and y values again\n",
        "x = credit_df[['recovery_rate', 'lgd']]\n",
        "y=credit_df['pd']"
      ],
      "metadata": {
        "id": "_76Ugdav3Zf2"
      },
      "execution_count": 59,
      "outputs": []
    },
    {
      "cell_type": "code",
      "source": [
        "#splitting data\n",
        "x_train, x_test, y_train, y_test = train_test_split(x, y, test_size=0.2, random_state=42)"
      ],
      "metadata": {
        "id": "ZsVsriXU4iUt"
      },
      "execution_count": 60,
      "outputs": []
    },
    {
      "cell_type": "code",
      "source": [
        "#scaling data with standard scaler\n",
        "scaler = StandardScaler()\n",
        "#fit scaler on training and apply same scaling to test\n",
        "x_train_scaled = scaler.fit_transform(x_train)\n",
        "x_test_scaled = scaler.transform(x_test)"
      ],
      "metadata": {
        "id": "vywM38044Nij"
      },
      "execution_count": 61,
      "outputs": []
    },
    {
      "cell_type": "code",
      "source": [
        "# Building FFNN for regression (predicting 'pd')\n",
        "model = keras.Sequential()\n",
        "model.add(layers.Input(shape=(x_train_scaled.shape[1],)))  # input layer\n",
        "model.add(layers.Dense(128, activation='relu'))  # hidden layer\n",
        "model.add(layers.Dropout(0.3))  # dropout layer to target potential overfitting\n",
        "model.add(layers.Dense(64, activation='relu'))  # second hidden layer\n",
        "model.add(layers.Dense(1, activation='linear'))  # output layer for regression"
      ],
      "metadata": {
        "id": "K0jwa1TL3UJS"
      },
      "execution_count": 64,
      "outputs": []
    },
    {
      "cell_type": "code",
      "source": [
        "# Compile the model (choose the appropriate loss function and metrics)\n",
        "model.compile(optimizer='adam', loss='mean_squared_error', metrics=['mae', 'mse'])"
      ],
      "metadata": {
        "id": "0QsOrs9G4wOW"
      },
      "execution_count": 65,
      "outputs": []
    },
    {
      "cell_type": "code",
      "source": [
        "# Train the model\n",
        "model.fit(x_train_scaled, y_train, epochs=100, batch_size=32, validation_data=(x_test_scaled, y_test))"
      ],
      "metadata": {
        "colab": {
          "base_uri": "https://localhost:8080/"
        },
        "id": "D2YX_EYZ4ymh",
        "outputId": "f661bfb2-298e-4643-d4c4-178bbb516a78"
      },
      "execution_count": 66,
      "outputs": [
        {
          "output_type": "stream",
          "name": "stdout",
          "text": [
            "Epoch 1/100\n",
            "815/815 [==============================] - 4s 3ms/step - loss: 0.0013 - mae: 0.0197 - mse: 0.0013 - val_loss: 3.3011e-04 - val_mae: 0.0107 - val_mse: 3.3011e-04\n",
            "Epoch 2/100\n",
            "815/815 [==============================] - 2s 2ms/step - loss: 1.4234e-04 - mae: 0.0081 - mse: 1.4234e-04 - val_loss: 3.6300e-04 - val_mae: 0.0131 - val_mse: 3.6300e-04\n",
            "Epoch 3/100\n",
            "815/815 [==============================] - 3s 4ms/step - loss: 9.9477e-05 - mae: 0.0068 - mse: 9.9477e-05 - val_loss: 4.6107e-04 - val_mae: 0.0172 - val_mse: 4.6107e-04\n",
            "Epoch 4/100\n",
            "815/815 [==============================] - 2s 2ms/step - loss: 6.7124e-05 - mae: 0.0056 - mse: 6.7124e-05 - val_loss: 5.9399e-04 - val_mae: 0.0173 - val_mse: 5.9399e-04\n",
            "Epoch 5/100\n",
            "815/815 [==============================] - 2s 3ms/step - loss: 5.6275e-05 - mae: 0.0051 - mse: 5.6275e-05 - val_loss: 6.4123e-04 - val_mae: 0.0189 - val_mse: 6.4123e-04\n",
            "Epoch 6/100\n",
            "815/815 [==============================] - 2s 2ms/step - loss: 4.3548e-05 - mae: 0.0046 - mse: 4.3548e-05 - val_loss: 7.3094e-04 - val_mae: 0.0194 - val_mse: 7.3094e-04\n",
            "Epoch 7/100\n",
            "815/815 [==============================] - 2s 3ms/step - loss: 3.5557e-05 - mae: 0.0042 - mse: 3.5557e-05 - val_loss: 5.6059e-04 - val_mae: 0.0183 - val_mse: 5.6059e-04\n",
            "Epoch 8/100\n",
            "815/815 [==============================] - 2s 3ms/step - loss: 3.4057e-05 - mae: 0.0041 - mse: 3.4057e-05 - val_loss: 0.0010 - val_mae: 0.0240 - val_mse: 0.0010\n",
            "Epoch 9/100\n",
            "815/815 [==============================] - 3s 3ms/step - loss: 2.7958e-05 - mae: 0.0037 - mse: 2.7958e-05 - val_loss: 0.0012 - val_mae: 0.0271 - val_mse: 0.0012\n",
            "Epoch 10/100\n",
            "815/815 [==============================] - 2s 2ms/step - loss: 2.8697e-05 - mae: 0.0037 - mse: 2.8697e-05 - val_loss: 0.0012 - val_mae: 0.0265 - val_mse: 0.0012\n",
            "Epoch 11/100\n",
            "815/815 [==============================] - 2s 2ms/step - loss: 3.2858e-05 - mae: 0.0039 - mse: 3.2858e-05 - val_loss: 0.0010 - val_mae: 0.0252 - val_mse: 0.0010\n",
            "Epoch 12/100\n",
            "815/815 [==============================] - 2s 3ms/step - loss: 2.7666e-05 - mae: 0.0035 - mse: 2.7666e-05 - val_loss: 0.0013 - val_mae: 0.0283 - val_mse: 0.0013\n",
            "Epoch 13/100\n",
            "815/815 [==============================] - 2s 2ms/step - loss: 2.5195e-05 - mae: 0.0034 - mse: 2.5195e-05 - val_loss: 0.0012 - val_mae: 0.0286 - val_mse: 0.0012\n",
            "Epoch 14/100\n",
            "815/815 [==============================] - 3s 3ms/step - loss: 3.1121e-05 - mae: 0.0036 - mse: 3.1121e-05 - val_loss: 0.0014 - val_mae: 0.0305 - val_mse: 0.0014\n",
            "Epoch 15/100\n",
            "815/815 [==============================] - 2s 3ms/step - loss: 2.2183e-05 - mae: 0.0031 - mse: 2.2183e-05 - val_loss: 0.0014 - val_mae: 0.0311 - val_mse: 0.0014\n",
            "Epoch 16/100\n",
            "815/815 [==============================] - 2s 3ms/step - loss: 2.5181e-05 - mae: 0.0031 - mse: 2.5181e-05 - val_loss: 0.0017 - val_mae: 0.0345 - val_mse: 0.0017\n",
            "Epoch 17/100\n",
            "815/815 [==============================] - 2s 3ms/step - loss: 2.0246e-05 - mae: 0.0028 - mse: 2.0246e-05 - val_loss: 0.0016 - val_mae: 0.0328 - val_mse: 0.0016\n",
            "Epoch 18/100\n",
            "815/815 [==============================] - 2s 2ms/step - loss: 2.4445e-05 - mae: 0.0030 - mse: 2.4445e-05 - val_loss: 0.0017 - val_mae: 0.0333 - val_mse: 0.0017\n",
            "Epoch 19/100\n",
            "815/815 [==============================] - 2s 2ms/step - loss: 1.8347e-05 - mae: 0.0027 - mse: 1.8347e-05 - val_loss: 0.0019 - val_mae: 0.0361 - val_mse: 0.0019\n",
            "Epoch 20/100\n",
            "815/815 [==============================] - 4s 4ms/step - loss: 2.3822e-05 - mae: 0.0030 - mse: 2.3822e-05 - val_loss: 0.0017 - val_mae: 0.0350 - val_mse: 0.0017\n",
            "Epoch 21/100\n",
            "815/815 [==============================] - 2s 2ms/step - loss: 1.8408e-05 - mae: 0.0027 - mse: 1.8408e-05 - val_loss: 0.0018 - val_mae: 0.0357 - val_mse: 0.0018\n",
            "Epoch 22/100\n",
            "815/815 [==============================] - 2s 2ms/step - loss: 1.6647e-05 - mae: 0.0026 - mse: 1.6647e-05 - val_loss: 0.0018 - val_mae: 0.0363 - val_mse: 0.0018\n",
            "Epoch 23/100\n",
            "815/815 [==============================] - 2s 2ms/step - loss: 1.6308e-05 - mae: 0.0025 - mse: 1.6308e-05 - val_loss: 0.0018 - val_mae: 0.0360 - val_mse: 0.0018\n",
            "Epoch 24/100\n",
            "815/815 [==============================] - 2s 2ms/step - loss: 1.7154e-05 - mae: 0.0026 - mse: 1.7154e-05 - val_loss: 0.0019 - val_mae: 0.0376 - val_mse: 0.0019\n",
            "Epoch 25/100\n",
            "815/815 [==============================] - 2s 3ms/step - loss: 1.6907e-05 - mae: 0.0025 - mse: 1.6907e-05 - val_loss: 0.0019 - val_mae: 0.0373 - val_mse: 0.0019\n",
            "Epoch 26/100\n",
            "815/815 [==============================] - 3s 3ms/step - loss: 1.7748e-05 - mae: 0.0025 - mse: 1.7748e-05 - val_loss: 0.0020 - val_mae: 0.0378 - val_mse: 0.0020\n",
            "Epoch 27/100\n",
            "815/815 [==============================] - 2s 3ms/step - loss: 1.2980e-05 - mae: 0.0023 - mse: 1.2980e-05 - val_loss: 0.0020 - val_mae: 0.0380 - val_mse: 0.0020\n",
            "Epoch 28/100\n",
            "815/815 [==============================] - 2s 3ms/step - loss: 1.5435e-05 - mae: 0.0023 - mse: 1.5435e-05 - val_loss: 0.0018 - val_mae: 0.0364 - val_mse: 0.0018\n",
            "Epoch 29/100\n",
            "815/815 [==============================] - 2s 3ms/step - loss: 1.3946e-05 - mae: 0.0023 - mse: 1.3946e-05 - val_loss: 0.0019 - val_mae: 0.0367 - val_mse: 0.0019\n",
            "Epoch 30/100\n",
            "815/815 [==============================] - 2s 2ms/step - loss: 1.3922e-05 - mae: 0.0023 - mse: 1.3922e-05 - val_loss: 0.0019 - val_mae: 0.0373 - val_mse: 0.0019\n",
            "Epoch 31/100\n",
            "815/815 [==============================] - 3s 3ms/step - loss: 1.7043e-05 - mae: 0.0024 - mse: 1.7043e-05 - val_loss: 0.0020 - val_mae: 0.0383 - val_mse: 0.0020\n",
            "Epoch 32/100\n",
            "815/815 [==============================] - 2s 3ms/step - loss: 1.3692e-05 - mae: 0.0021 - mse: 1.3692e-05 - val_loss: 0.0018 - val_mae: 0.0362 - val_mse: 0.0018\n",
            "Epoch 33/100\n",
            "815/815 [==============================] - 2s 2ms/step - loss: 1.3613e-05 - mae: 0.0022 - mse: 1.3613e-05 - val_loss: 0.0019 - val_mae: 0.0376 - val_mse: 0.0019\n",
            "Epoch 34/100\n",
            "815/815 [==============================] - 2s 2ms/step - loss: 1.2762e-05 - mae: 0.0021 - mse: 1.2762e-05 - val_loss: 0.0021 - val_mae: 0.0390 - val_mse: 0.0021\n",
            "Epoch 35/100\n",
            "815/815 [==============================] - 2s 3ms/step - loss: 1.6491e-05 - mae: 0.0023 - mse: 1.6491e-05 - val_loss: 0.0020 - val_mae: 0.0380 - val_mse: 0.0020\n",
            "Epoch 36/100\n",
            "815/815 [==============================] - 2s 2ms/step - loss: 1.0552e-05 - mae: 0.0019 - mse: 1.0552e-05 - val_loss: 0.0020 - val_mae: 0.0382 - val_mse: 0.0020\n",
            "Epoch 37/100\n",
            "815/815 [==============================] - 2s 3ms/step - loss: 1.1212e-05 - mae: 0.0020 - mse: 1.1212e-05 - val_loss: 0.0020 - val_mae: 0.0384 - val_mse: 0.0020\n",
            "Epoch 38/100\n",
            "815/815 [==============================] - 3s 3ms/step - loss: 1.2054e-05 - mae: 0.0022 - mse: 1.2054e-05 - val_loss: 0.0021 - val_mae: 0.0388 - val_mse: 0.0021\n",
            "Epoch 39/100\n",
            "815/815 [==============================] - 2s 2ms/step - loss: 1.0349e-05 - mae: 0.0019 - mse: 1.0349e-05 - val_loss: 0.0021 - val_mae: 0.0390 - val_mse: 0.0021\n",
            "Epoch 40/100\n",
            "815/815 [==============================] - 2s 2ms/step - loss: 9.7727e-06 - mae: 0.0019 - mse: 9.7727e-06 - val_loss: 0.0020 - val_mae: 0.0385 - val_mse: 0.0020\n",
            "Epoch 41/100\n",
            "815/815 [==============================] - 2s 2ms/step - loss: 1.4433e-05 - mae: 0.0022 - mse: 1.4433e-05 - val_loss: 0.0021 - val_mae: 0.0392 - val_mse: 0.0021\n",
            "Epoch 42/100\n",
            "815/815 [==============================] - 2s 2ms/step - loss: 1.0904e-05 - mae: 0.0019 - mse: 1.0904e-05 - val_loss: 0.0021 - val_mae: 0.0396 - val_mse: 0.0021\n",
            "Epoch 43/100\n",
            "815/815 [==============================] - 3s 3ms/step - loss: 1.2626e-05 - mae: 0.0019 - mse: 1.2626e-05 - val_loss: 0.0021 - val_mae: 0.0393 - val_mse: 0.0021\n",
            "Epoch 44/100\n",
            "815/815 [==============================] - 2s 3ms/step - loss: 1.3889e-05 - mae: 0.0020 - mse: 1.3889e-05 - val_loss: 0.0020 - val_mae: 0.0377 - val_mse: 0.0020\n",
            "Epoch 45/100\n",
            "815/815 [==============================] - 2s 2ms/step - loss: 1.0695e-05 - mae: 0.0018 - mse: 1.0695e-05 - val_loss: 0.0021 - val_mae: 0.0393 - val_mse: 0.0021\n",
            "Epoch 46/100\n",
            "815/815 [==============================] - 2s 2ms/step - loss: 1.4690e-05 - mae: 0.0020 - mse: 1.4690e-05 - val_loss: 0.0022 - val_mae: 0.0398 - val_mse: 0.0022\n",
            "Epoch 47/100\n",
            "815/815 [==============================] - 2s 2ms/step - loss: 1.1595e-05 - mae: 0.0017 - mse: 1.1595e-05 - val_loss: 0.0022 - val_mae: 0.0402 - val_mse: 0.0022\n",
            "Epoch 48/100\n",
            "815/815 [==============================] - 2s 2ms/step - loss: 8.1885e-06 - mae: 0.0016 - mse: 8.1885e-06 - val_loss: 0.0023 - val_mae: 0.0405 - val_mse: 0.0023\n",
            "Epoch 49/100\n",
            "815/815 [==============================] - 3s 3ms/step - loss: 9.0618e-06 - mae: 0.0017 - mse: 9.0618e-06 - val_loss: 0.0022 - val_mae: 0.0400 - val_mse: 0.0022\n",
            "Epoch 50/100\n",
            "815/815 [==============================] - 2s 3ms/step - loss: 9.0683e-06 - mae: 0.0017 - mse: 9.0683e-06 - val_loss: 0.0022 - val_mae: 0.0401 - val_mse: 0.0022\n",
            "Epoch 51/100\n",
            "815/815 [==============================] - 2s 3ms/step - loss: 8.1424e-06 - mae: 0.0016 - mse: 8.1424e-06 - val_loss: 0.0023 - val_mae: 0.0409 - val_mse: 0.0023\n",
            "Epoch 52/100\n",
            "815/815 [==============================] - 2s 3ms/step - loss: 8.8907e-06 - mae: 0.0016 - mse: 8.8907e-06 - val_loss: 0.0023 - val_mae: 0.0411 - val_mse: 0.0023\n",
            "Epoch 53/100\n",
            "815/815 [==============================] - 2s 2ms/step - loss: 8.4957e-06 - mae: 0.0016 - mse: 8.4957e-06 - val_loss: 0.0022 - val_mae: 0.0401 - val_mse: 0.0022\n",
            "Epoch 54/100\n",
            "815/815 [==============================] - 2s 3ms/step - loss: 6.7342e-06 - mae: 0.0015 - mse: 6.7342e-06 - val_loss: 0.0024 - val_mae: 0.0416 - val_mse: 0.0024\n",
            "Epoch 55/100\n",
            "815/815 [==============================] - 3s 4ms/step - loss: 8.6280e-06 - mae: 0.0016 - mse: 8.6280e-06 - val_loss: 0.0023 - val_mae: 0.0406 - val_mse: 0.0023\n",
            "Epoch 56/100\n",
            "815/815 [==============================] - 2s 3ms/step - loss: 8.7928e-06 - mae: 0.0016 - mse: 8.7928e-06 - val_loss: 0.0022 - val_mae: 0.0404 - val_mse: 0.0022\n",
            "Epoch 57/100\n",
            "815/815 [==============================] - 2s 2ms/step - loss: 6.2993e-06 - mae: 0.0014 - mse: 6.2993e-06 - val_loss: 0.0022 - val_mae: 0.0399 - val_mse: 0.0022\n",
            "Epoch 58/100\n",
            "815/815 [==============================] - 2s 2ms/step - loss: 1.1443e-05 - mae: 0.0017 - mse: 1.1443e-05 - val_loss: 0.0023 - val_mae: 0.0406 - val_mse: 0.0023\n",
            "Epoch 59/100\n",
            "815/815 [==============================] - 2s 2ms/step - loss: 9.3198e-06 - mae: 0.0016 - mse: 9.3198e-06 - val_loss: 0.0024 - val_mae: 0.0416 - val_mse: 0.0024\n",
            "Epoch 60/100\n",
            "815/815 [==============================] - 2s 3ms/step - loss: 7.4583e-06 - mae: 0.0015 - mse: 7.4583e-06 - val_loss: 0.0024 - val_mae: 0.0415 - val_mse: 0.0024\n",
            "Epoch 61/100\n",
            "815/815 [==============================] - 3s 4ms/step - loss: 9.6439e-06 - mae: 0.0016 - mse: 9.6439e-06 - val_loss: 0.0025 - val_mae: 0.0422 - val_mse: 0.0025\n",
            "Epoch 62/100\n",
            "815/815 [==============================] - 2s 3ms/step - loss: 8.8473e-06 - mae: 0.0014 - mse: 8.8473e-06 - val_loss: 0.0022 - val_mae: 0.0400 - val_mse: 0.0022\n",
            "Epoch 63/100\n",
            "815/815 [==============================] - 2s 3ms/step - loss: 7.2439e-06 - mae: 0.0014 - mse: 7.2439e-06 - val_loss: 0.0022 - val_mae: 0.0403 - val_mse: 0.0022\n",
            "Epoch 64/100\n",
            "815/815 [==============================] - 2s 3ms/step - loss: 6.6948e-06 - mae: 0.0014 - mse: 6.6948e-06 - val_loss: 0.0022 - val_mae: 0.0404 - val_mse: 0.0022\n",
            "Epoch 65/100\n",
            "815/815 [==============================] - 2s 3ms/step - loss: 9.0712e-06 - mae: 0.0016 - mse: 9.0712e-06 - val_loss: 0.0023 - val_mae: 0.0413 - val_mse: 0.0023\n",
            "Epoch 66/100\n",
            "815/815 [==============================] - 3s 3ms/step - loss: 7.1263e-06 - mae: 0.0013 - mse: 7.1263e-06 - val_loss: 0.0021 - val_mae: 0.0395 - val_mse: 0.0021\n",
            "Epoch 67/100\n",
            "815/815 [==============================] - 3s 4ms/step - loss: 8.0998e-06 - mae: 0.0015 - mse: 8.0998e-06 - val_loss: 0.0023 - val_mae: 0.0413 - val_mse: 0.0023\n",
            "Epoch 68/100\n",
            "815/815 [==============================] - 2s 3ms/step - loss: 6.3826e-06 - mae: 0.0013 - mse: 6.3826e-06 - val_loss: 0.0024 - val_mae: 0.0416 - val_mse: 0.0024\n",
            "Epoch 69/100\n",
            "815/815 [==============================] - 2s 2ms/step - loss: 9.0179e-06 - mae: 0.0015 - mse: 9.0179e-06 - val_loss: 0.0022 - val_mae: 0.0404 - val_mse: 0.0022\n",
            "Epoch 70/100\n",
            "815/815 [==============================] - 2s 2ms/step - loss: 6.7095e-06 - mae: 0.0013 - mse: 6.7095e-06 - val_loss: 0.0023 - val_mae: 0.0408 - val_mse: 0.0023\n",
            "Epoch 71/100\n",
            "815/815 [==============================] - 2s 2ms/step - loss: 8.4861e-06 - mae: 0.0014 - mse: 8.4861e-06 - val_loss: 0.0022 - val_mae: 0.0404 - val_mse: 0.0022\n",
            "Epoch 72/100\n",
            "815/815 [==============================] - 3s 3ms/step - loss: 8.5324e-06 - mae: 0.0015 - mse: 8.5324e-06 - val_loss: 0.0021 - val_mae: 0.0395 - val_mse: 0.0021\n",
            "Epoch 73/100\n",
            "815/815 [==============================] - 2s 3ms/step - loss: 6.5686e-06 - mae: 0.0013 - mse: 6.5686e-06 - val_loss: 0.0022 - val_mae: 0.0402 - val_mse: 0.0022\n",
            "Epoch 74/100\n",
            "815/815 [==============================] - 2s 3ms/step - loss: 7.5004e-06 - mae: 0.0014 - mse: 7.5004e-06 - val_loss: 0.0023 - val_mae: 0.0414 - val_mse: 0.0023\n",
            "Epoch 75/100\n",
            "815/815 [==============================] - 2s 3ms/step - loss: 5.8492e-06 - mae: 0.0012 - mse: 5.8492e-06 - val_loss: 0.0023 - val_mae: 0.0407 - val_mse: 0.0023\n",
            "Epoch 76/100\n",
            "815/815 [==============================] - 2s 2ms/step - loss: 7.0399e-06 - mae: 0.0014 - mse: 7.0399e-06 - val_loss: 0.0023 - val_mae: 0.0407 - val_mse: 0.0023\n",
            "Epoch 77/100\n",
            "815/815 [==============================] - 2s 2ms/step - loss: 7.2879e-06 - mae: 0.0013 - mse: 7.2879e-06 - val_loss: 0.0023 - val_mae: 0.0407 - val_mse: 0.0023\n",
            "Epoch 78/100\n",
            "815/815 [==============================] - 3s 3ms/step - loss: 5.6096e-06 - mae: 0.0012 - mse: 5.6096e-06 - val_loss: 0.0023 - val_mae: 0.0410 - val_mse: 0.0023\n",
            "Epoch 79/100\n",
            "815/815 [==============================] - 2s 3ms/step - loss: 4.8134e-06 - mae: 0.0012 - mse: 4.8134e-06 - val_loss: 0.0023 - val_mae: 0.0409 - val_mse: 0.0023\n",
            "Epoch 80/100\n",
            "815/815 [==============================] - 2s 3ms/step - loss: 5.3409e-06 - mae: 0.0012 - mse: 5.3409e-06 - val_loss: 0.0023 - val_mae: 0.0406 - val_mse: 0.0023\n",
            "Epoch 81/100\n",
            "815/815 [==============================] - 2s 3ms/step - loss: 9.4420e-06 - mae: 0.0014 - mse: 9.4420e-06 - val_loss: 0.0021 - val_mae: 0.0395 - val_mse: 0.0021\n",
            "Epoch 82/100\n",
            "815/815 [==============================] - 2s 3ms/step - loss: 5.5417e-06 - mae: 0.0011 - mse: 5.5417e-06 - val_loss: 0.0022 - val_mae: 0.0403 - val_mse: 0.0022\n",
            "Epoch 83/100\n",
            "815/815 [==============================] - 2s 3ms/step - loss: 6.5868e-06 - mae: 0.0012 - mse: 6.5868e-06 - val_loss: 0.0023 - val_mae: 0.0412 - val_mse: 0.0023\n",
            "Epoch 84/100\n",
            "815/815 [==============================] - 3s 4ms/step - loss: 5.0842e-06 - mae: 0.0012 - mse: 5.0842e-06 - val_loss: 0.0022 - val_mae: 0.0403 - val_mse: 0.0022\n",
            "Epoch 85/100\n",
            "815/815 [==============================] - 2s 3ms/step - loss: 4.6016e-06 - mae: 0.0011 - mse: 4.6016e-06 - val_loss: 0.0022 - val_mae: 0.0401 - val_mse: 0.0022\n",
            "Epoch 86/100\n",
            "815/815 [==============================] - 2s 2ms/step - loss: 7.0192e-06 - mae: 0.0014 - mse: 7.0192e-06 - val_loss: 0.0023 - val_mae: 0.0406 - val_mse: 0.0023\n",
            "Epoch 87/100\n",
            "815/815 [==============================] - 2s 2ms/step - loss: 6.8486e-06 - mae: 0.0012 - mse: 6.8486e-06 - val_loss: 0.0022 - val_mae: 0.0406 - val_mse: 0.0022\n",
            "Epoch 88/100\n",
            "815/815 [==============================] - 2s 3ms/step - loss: 6.6957e-06 - mae: 0.0013 - mse: 6.6957e-06 - val_loss: 0.0023 - val_mae: 0.0408 - val_mse: 0.0023\n",
            "Epoch 89/100\n",
            "815/815 [==============================] - 3s 3ms/step - loss: 6.3672e-06 - mae: 0.0011 - mse: 6.3672e-06 - val_loss: 0.0023 - val_mae: 0.0407 - val_mse: 0.0023\n",
            "Epoch 90/100\n",
            "815/815 [==============================] - 3s 3ms/step - loss: 5.6859e-06 - mae: 0.0012 - mse: 5.6859e-06 - val_loss: 0.0023 - val_mae: 0.0406 - val_mse: 0.0023\n",
            "Epoch 91/100\n",
            "815/815 [==============================] - 2s 3ms/step - loss: 6.9279e-06 - mae: 0.0013 - mse: 6.9279e-06 - val_loss: 0.0023 - val_mae: 0.0413 - val_mse: 0.0023\n",
            "Epoch 92/100\n",
            "815/815 [==============================] - 2s 3ms/step - loss: 5.3312e-06 - mae: 0.0012 - mse: 5.3312e-06 - val_loss: 0.0023 - val_mae: 0.0407 - val_mse: 0.0023\n",
            "Epoch 93/100\n",
            "815/815 [==============================] - 2s 3ms/step - loss: 5.5246e-06 - mae: 0.0012 - mse: 5.5246e-06 - val_loss: 0.0022 - val_mae: 0.0404 - val_mse: 0.0022\n",
            "Epoch 94/100\n",
            "815/815 [==============================] - 2s 3ms/step - loss: 4.3099e-06 - mae: 0.0011 - mse: 4.3099e-06 - val_loss: 0.0023 - val_mae: 0.0408 - val_mse: 0.0023\n",
            "Epoch 95/100\n",
            "815/815 [==============================] - 3s 4ms/step - loss: 5.4053e-06 - mae: 0.0012 - mse: 5.4053e-06 - val_loss: 0.0022 - val_mae: 0.0397 - val_mse: 0.0022\n",
            "Epoch 96/100\n",
            "815/815 [==============================] - 2s 3ms/step - loss: 4.9632e-06 - mae: 0.0011 - mse: 4.9632e-06 - val_loss: 0.0021 - val_mae: 0.0388 - val_mse: 0.0021\n",
            "Epoch 97/100\n",
            "815/815 [==============================] - 2s 2ms/step - loss: 6.1813e-06 - mae: 0.0012 - mse: 6.1813e-06 - val_loss: 0.0022 - val_mae: 0.0403 - val_mse: 0.0022\n",
            "Epoch 98/100\n",
            "815/815 [==============================] - 2s 3ms/step - loss: 5.3833e-06 - mae: 0.0011 - mse: 5.3833e-06 - val_loss: 0.0023 - val_mae: 0.0408 - val_mse: 0.0023\n",
            "Epoch 99/100\n",
            "815/815 [==============================] - 2s 2ms/step - loss: 4.8199e-06 - mae: 0.0011 - mse: 4.8199e-06 - val_loss: 0.0023 - val_mae: 0.0407 - val_mse: 0.0023\n",
            "Epoch 100/100\n",
            "815/815 [==============================] - 2s 3ms/step - loss: 6.7391e-06 - mae: 0.0013 - mse: 6.7391e-06 - val_loss: 0.0022 - val_mae: 0.0404 - val_mse: 0.0022\n"
          ]
        },
        {
          "output_type": "execute_result",
          "data": {
            "text/plain": [
              "<keras.src.callbacks.History at 0x7fa1e9eed810>"
            ]
          },
          "metadata": {},
          "execution_count": 66
        }
      ]
    },
    {
      "cell_type": "code",
      "source": [
        "# Evaluate the model\n",
        "loss, mae, mse = model.evaluate(x_test_scaled, y_test)\n",
        "print(f\"Test Loss: {loss:.4f}, Test MAE: {mae:.4f}, Test MSE: {mse:.4f}\")"
      ],
      "metadata": {
        "colab": {
          "base_uri": "https://localhost:8080/"
        },
        "id": "CaDzgG4v4-go",
        "outputId": "930e5bba-0051-411f-8851-1ca3d17e4342"
      },
      "execution_count": 68,
      "outputs": [
        {
          "output_type": "stream",
          "name": "stdout",
          "text": [
            "204/204 [==============================] - 1s 4ms/step - loss: 0.0022 - mae: 0.0404 - mse: 0.0022\n",
            "Test Loss: 0.0022, Test MAE: 0.0404, Test MSE: 0.0022\n"
          ]
        }
      ]
    },
    {
      "cell_type": "code",
      "source": [
        "# Predict 'pd' values for the test data\n",
        "y_pred = model.predict(x_test_scaled)\n"
      ],
      "metadata": {
        "colab": {
          "base_uri": "https://localhost:8080/"
        },
        "id": "P1UDyJDb6uSo",
        "outputId": "c2ecd17c-b13b-4e91-f171-9e5f8b0cd166"
      },
      "execution_count": 70,
      "outputs": [
        {
          "output_type": "stream",
          "name": "stdout",
          "text": [
            "204/204 [==============================] - 1s 2ms/step\n"
          ]
        }
      ]
    },
    {
      "cell_type": "code",
      "source": [
        "# Calculate the loss, MAE, and MSE\n",
        "loss, mae, mse = model.evaluate(x_test_scaled, y_pred)\n",
        "\n",
        "# Display the loss and evaluation metrics\n",
        "print(f\"Test Loss: {loss:.4f}, Test MAE: {mae:.4f}, Test MSE: {mse:.4f}\")"
      ],
      "metadata": {
        "colab": {
          "base_uri": "https://localhost:8080/"
        },
        "id": "_DuOW9M5623m",
        "outputId": "fb76e927-a1a4-498b-e035-1cddcf6a6706"
      },
      "execution_count": 71,
      "outputs": [
        {
          "output_type": "stream",
          "name": "stdout",
          "text": [
            "204/204 [==============================] - 1s 3ms/step - loss: 8.9523e-17 - mae: 3.6012e-09 - mse: 8.9523e-17\n",
            "Test Loss: 0.0000, Test MAE: 0.0000, Test MSE: 0.0000\n"
          ]
        }
      ]
    },
    {
      "cell_type": "code",
      "source": [
        "y_pred"
      ],
      "metadata": {
        "colab": {
          "base_uri": "https://localhost:8080/"
        },
        "id": "WrM3LfpQ7OED",
        "outputId": "3314de82-45bb-4e34-ec21-7357495beac0"
      },
      "execution_count": 74,
      "outputs": [
        {
          "output_type": "execute_result",
          "data": {
            "text/plain": [
              "array([[0.411461  ],\n",
              "       [0.20144963],\n",
              "       [0.23650552],\n",
              "       ...,\n",
              "       [0.0963905 ],\n",
              "       [0.09924196],\n",
              "       [0.3785213 ]], dtype=float32)"
            ]
          },
          "metadata": {},
          "execution_count": 74
        }
      ]
    },
    {
      "cell_type": "code",
      "source": [
        "y_test"
      ],
      "metadata": {
        "colab": {
          "base_uri": "https://localhost:8080/"
        },
        "id": "w4y-MsW_7Ppa",
        "outputId": "97df3cea-8f59-42e3-bb3b-9611c0bf6b33"
      },
      "execution_count": 75,
      "outputs": [
        {
          "output_type": "execute_result",
          "data": {
            "text/plain": [
              "14668    0.482010\n",
              "24614    0.177015\n",
              "11096    0.227610\n",
              "10424    0.482050\n",
              "26007    0.395763\n",
              "           ...   \n",
              "31330    0.074386\n",
              "2862     0.092477\n",
              "14754    0.027358\n",
              "14170    0.031422\n",
              "24385    0.435031\n",
              "Name: pd, Length: 6517, dtype: float64"
            ]
          },
          "metadata": {},
          "execution_count": 75
        }
      ]
    },
    {
      "cell_type": "code",
      "source": [
        "import matplotlib.pyplot as plt\n"
      ],
      "metadata": {
        "id": "c8z-rDfd7Ei2"
      },
      "execution_count": 72,
      "outputs": []
    },
    {
      "cell_type": "code",
      "source": [
        "# Create a scatter plot with different colors for y_pred and y_test\n",
        "plt.figure(figsize=(8, 6))\n",
        "plt.scatter(y_test, y_pred, alpha=0.5, label='y_pred', c='blue', marker='o')\n",
        "plt.scatter(y_test, y_test, alpha=0.5, label='y_test', c='red', marker='o')\n",
        "plt.xlabel('Actual Values (y_test)')\n",
        "plt.ylabel('Predicted Values (y_pred)')\n",
        "plt.grid(True)\n",
        "plt.legend()\n",
        "plt.show()"
      ],
      "metadata": {
        "colab": {
          "base_uri": "https://localhost:8080/",
          "height": 542
        },
        "id": "4dHES2J-7H-F",
        "outputId": "df26e57b-63ec-4bd7-bc0d-bd379d94940f"
      },
      "execution_count": 73,
      "outputs": [
        {
          "output_type": "display_data",
          "data": {
            "text/plain": [
              "<Figure size 800x600 with 1 Axes>"
            ],
            "image/png": "[encoded data removed]"
          },
          "metadata": {}
        }
      ]
    },
    {
      "cell_type": "code",
      "source": [],
      "metadata": {
        "id": "7o202HTn7LY4"
      },
      "execution_count": null,
      "outputs": []
    }
  ]
}